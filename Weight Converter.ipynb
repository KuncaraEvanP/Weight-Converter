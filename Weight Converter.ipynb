{
 "cells": [
  {
   "cell_type": "markdown",
   "id": "d4c337ae",
   "metadata": {},
   "source": [
    "## Project: Weight Converter"
   ]
  },
  {
   "cell_type": "code",
   "execution_count": null,
   "id": "fcde1391",
   "metadata": {},
   "outputs": [],
   "source": [
    "Weight= int(input('Weight : '))\n",
    "Unit= input('(L)bs or (K)g : ')\n",
    "if Unit.upper() == 'L':\n",
    "    converted=Weight*0.45\n",
    "    print(f\"You are {converted} Kg\")\n",
    "else:\n",
    "    converted=Weight/0.45\n",
    "    print(f'You are {converted} Lbs')"
   ]
  }
 ],
 "metadata": {
  "kernelspec": {
   "display_name": "Python 3 (ipykernel)",
   "language": "python",
   "name": "python3"
  },
  "language_info": {
   "codemirror_mode": {
    "name": "ipython",
    "version": 3
   },
   "file_extension": ".py",
   "mimetype": "text/x-python",
   "name": "python",
   "nbconvert_exporter": "python",
   "pygments_lexer": "ipython3",
   "version": "3.9.12"
  }
 },
 "nbformat": 4,
 "nbformat_minor": 5
}
